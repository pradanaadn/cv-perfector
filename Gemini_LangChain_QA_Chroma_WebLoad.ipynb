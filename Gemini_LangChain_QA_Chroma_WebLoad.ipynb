{
 "cells": [
  {
   "cell_type": "markdown",
   "metadata": {
    "id": "Tce3stUlHN0L"
   },
   "source": [
    "##### Copyright 2024 Google LLC."
   ]
  },
  {
   "cell_type": "code",
   "execution_count": 1,
   "metadata": {
    "cellView": "form",
    "id": "tuOe1ymfHZPu"
   },
   "outputs": [],
   "source": [
    "#@title Licensed under the Apache License, Version 2.0 (the \"License\");\n",
    "# you may not use this file except in compliance with the License.\n",
    "# You may obtain a copy of the License at\n",
    "#\n",
    "# https://www.apache.org/licenses/LICENSE-2.0\n",
    "#\n",
    "# Unless required by applicable law or agreed to in writing, software\n",
    "# distributed under the License is distributed on an \"AS IS\" BASIS,\n",
    "# WITHOUT WARRANTIES OR CONDITIONS OF ANY KIND, either express or implied.\n",
    "# See the License for the specific language governing permissions and\n",
    "# limitations under the License."
   ]
  },
  {
   "cell_type": "markdown",
   "metadata": {
    "id": "0c5ea3f4a75c"
   },
   "source": [
    "# Question Answering using Gemini, LangChain, and Chroma"
   ]
  },
  {
   "cell_type": "markdown",
   "metadata": {
    "id": "awKO767lQIWh"
   },
   "source": [
    "<table class=\"tfo-notebook-buttons\" align=\"left\">\n",
    "  <td>\n",
    "    <a target=\"_blank\" href=\"https://colab.research.google.com/github/google/generative-ai-docs/blob/main/examples/gemini/python/langchain/Gemini_LangChain_QA_Chroma_WebLoad.ipynb\"><img src=\"https://www.tensorflow.org/images/colab_logo_32px.png\" />Run in Google Colab</a>\n",
    "  </td>\n",
    "  <td>\n",
    "    <a target=\"_blank\" href=\"https://github.com/google/generative-ai-docs/blob/main/examples/gemini/python/langchain/Gemini_LangChain_QA_Chroma_WebLoad.ipynb\"><img src=\"https://www.tensorflow.org/images/GitHub-Mark-32px.png\" />View source on GitHub</a>\n",
    "  </td>\n",
    "</table>\n"
   ]
  },
  {
   "cell_type": "markdown",
   "metadata": {
    "id": "479790a71f3c"
   },
   "source": [
    "## Overview\n",
    "\n",
    "[Gemini](https://ai.google.dev/models/gemini) is a family of generative AI models that lets developers generate content and solve problems. These models are designed and trained to handle both text and images as input.\n",
    "\n",
    "[LangChain](https://www.langchain.com/) is a data framework designed to make integration of Large Language Models (LLM) like Gemini easier for applications.\n",
    "\n",
    "[Chroma](https://docs.trychroma.com/) is an open-source embedding database focused on simplicity and developer productivity. Chroma allows users to store embeddings and their metadata, embed documents and queries, and search the embeddings quickly.\n",
    "\n",
    "In this notebook, you'll learn how to create an application that answers questions using data from a website with the help of Gemini, LangChain, and Chroma."
   ]
  },
  {
   "cell_type": "markdown",
   "metadata": {
    "id": "_qRjVe1tZhsx"
   },
   "source": [
    "## Setup\n",
    "\n",
    "First, you must install the packages and set the necessary environment variables.\n",
    "\n",
    "### Installation\n",
    "\n",
    "Install LangChain's Python library, `langchain`."
   ]
  },
  {
   "cell_type": "code",
   "execution_count": 2,
   "metadata": {
    "id": "olK4Ejjzuj76"
   },
   "outputs": [
    {
     "name": "stdout",
     "output_type": "stream",
     "text": [
      "/home/pradanaend/Documents/Project/cv-perfector/.venv/bin/python: No module named pip\n",
      "Note: you may need to restart the kernel to use updated packages.\n"
     ]
    }
   ],
   "source": [
    "%pip install --quiet langchain"
   ]
  },
  {
   "cell_type": "markdown",
   "metadata": {
    "id": "G3Ap03KFZjI-"
   },
   "source": [
    "Install LangChain's integration package for Gemini, `langchain-google-genai`."
   ]
  },
  {
   "cell_type": "code",
   "execution_count": null,
   "metadata": {
    "colab": {
     "base_uri": "https://localhost:8080/"
    },
    "id": "K1CzIZiaurWv",
    "outputId": "10ec23e9-51bd-4874-9470-65c2645253e6"
   },
   "outputs": [
    {
     "name": "stdout",
     "output_type": "stream",
     "text": [
      "\u001b[?25l   \u001b[90m━━━━━━━━━━━━━━━━━━━━━━━━━━━━━━━━━━━━━━━━\u001b[0m \u001b[32m0.0/41.8 kB\u001b[0m \u001b[31m?\u001b[0m eta \u001b[36m-:--:--\u001b[0m\r\u001b[2K   \u001b[90m━━━━━━━━━━━━━━━━━━━━━━━━━━━━━━━━━━━━━━━━\u001b[0m \u001b[32m41.8/41.8 kB\u001b[0m \u001b[31m2.0 MB/s\u001b[0m eta \u001b[36m0:00:00\u001b[0m\n",
      "\u001b[?25h\u001b[?25l   \u001b[90m━━━━━━━━━━━━━━━━━━━━━━━━━━━━━━━━━━━━━━━━\u001b[0m \u001b[32m0.0/408.7 kB\u001b[0m \u001b[31m?\u001b[0m eta \u001b[36m-:--:--\u001b[0m\r\u001b[2K   \u001b[90m━━━━━━━━━━━━━━━━━━━━━━━━━━━━━━━━━━━━━━━━\u001b[0m \u001b[32m408.7/408.7 kB\u001b[0m \u001b[31m18.4 MB/s\u001b[0m eta \u001b[36m0:00:00\u001b[0m\n",
      "\u001b[?25h"
     ]
    }
   ],
   "source": [
    "%pip install --quiet langchain-google-genai"
   ]
  },
  {
   "cell_type": "code",
   "execution_count": 6,
   "metadata": {
    "colab": {
     "base_uri": "https://localhost:8080/"
    },
    "id": "oCJTaKSGSod7",
    "outputId": "41a7e3c8-fc10-49d9-cae2-9547a333d093"
   },
   "outputs": [
    {
     "name": "stdout",
     "output_type": "stream",
     "text": [
      "Collecting langchain-community\n",
      "  Downloading langchain_community-0.3.5-py3-none-any.whl.metadata (2.9 kB)\n",
      "Requirement already satisfied: PyYAML>=5.3 in /usr/local/lib/python3.10/dist-packages (from langchain-community) (6.0.2)\n",
      "Collecting SQLAlchemy<2.0.36,>=1.4 (from langchain-community)\n",
      "  Downloading SQLAlchemy-2.0.35-cp310-cp310-manylinux_2_17_x86_64.manylinux2014_x86_64.whl.metadata (9.6 kB)\n",
      "Requirement already satisfied: aiohttp<4.0.0,>=3.8.3 in /usr/local/lib/python3.10/dist-packages (from langchain-community) (3.10.10)\n",
      "Collecting dataclasses-json<0.7,>=0.5.7 (from langchain-community)\n",
      "  Downloading dataclasses_json-0.6.7-py3-none-any.whl.metadata (25 kB)\n",
      "Collecting httpx-sse<0.5.0,>=0.4.0 (from langchain-community)\n",
      "  Downloading httpx_sse-0.4.0-py3-none-any.whl.metadata (9.0 kB)\n",
      "Collecting langchain<0.4.0,>=0.3.6 (from langchain-community)\n",
      "  Downloading langchain-0.3.7-py3-none-any.whl.metadata (7.1 kB)\n",
      "Requirement already satisfied: langchain-core<0.4.0,>=0.3.15 in /usr/local/lib/python3.10/dist-packages (from langchain-community) (0.3.15)\n",
      "Requirement already satisfied: langsmith<0.2.0,>=0.1.125 in /usr/local/lib/python3.10/dist-packages (from langchain-community) (0.1.137)\n",
      "Requirement already satisfied: numpy<2,>=1 in /usr/local/lib/python3.10/dist-packages (from langchain-community) (1.26.4)\n",
      "Collecting pydantic-settings<3.0.0,>=2.4.0 (from langchain-community)\n",
      "  Downloading pydantic_settings-2.6.1-py3-none-any.whl.metadata (3.5 kB)\n",
      "Requirement already satisfied: requests<3,>=2 in /usr/local/lib/python3.10/dist-packages (from langchain-community) (2.32.3)\n",
      "Requirement already satisfied: tenacity!=8.4.0,<10,>=8.1.0 in /usr/local/lib/python3.10/dist-packages (from langchain-community) (9.0.0)\n",
      "Requirement already satisfied: aiohappyeyeballs>=2.3.0 in /usr/local/lib/python3.10/dist-packages (from aiohttp<4.0.0,>=3.8.3->langchain-community) (2.4.3)\n",
      "Requirement already satisfied: aiosignal>=1.1.2 in /usr/local/lib/python3.10/dist-packages (from aiohttp<4.0.0,>=3.8.3->langchain-community) (1.3.1)\n",
      "Requirement already satisfied: attrs>=17.3.0 in /usr/local/lib/python3.10/dist-packages (from aiohttp<4.0.0,>=3.8.3->langchain-community) (24.2.0)\n",
      "Requirement already satisfied: frozenlist>=1.1.1 in /usr/local/lib/python3.10/dist-packages (from aiohttp<4.0.0,>=3.8.3->langchain-community) (1.5.0)\n",
      "Requirement already satisfied: multidict<7.0,>=4.5 in /usr/local/lib/python3.10/dist-packages (from aiohttp<4.0.0,>=3.8.3->langchain-community) (6.1.0)\n",
      "Requirement already satisfied: yarl<2.0,>=1.12.0 in /usr/local/lib/python3.10/dist-packages (from aiohttp<4.0.0,>=3.8.3->langchain-community) (1.17.0)\n",
      "Requirement already satisfied: async-timeout<5.0,>=4.0 in /usr/local/lib/python3.10/dist-packages (from aiohttp<4.0.0,>=3.8.3->langchain-community) (4.0.3)\n",
      "Collecting marshmallow<4.0.0,>=3.18.0 (from dataclasses-json<0.7,>=0.5.7->langchain-community)\n",
      "  Downloading marshmallow-3.23.1-py3-none-any.whl.metadata (7.5 kB)\n",
      "Collecting typing-inspect<1,>=0.4.0 (from dataclasses-json<0.7,>=0.5.7->langchain-community)\n",
      "  Downloading typing_inspect-0.9.0-py3-none-any.whl.metadata (1.5 kB)\n",
      "Requirement already satisfied: langchain-text-splitters<0.4.0,>=0.3.0 in /usr/local/lib/python3.10/dist-packages (from langchain<0.4.0,>=0.3.6->langchain-community) (0.3.0)\n",
      "Requirement already satisfied: pydantic<3.0.0,>=2.7.4 in /usr/local/lib/python3.10/dist-packages (from langchain<0.4.0,>=0.3.6->langchain-community) (2.9.2)\n",
      "Requirement already satisfied: jsonpatch<2.0,>=1.33 in /usr/local/lib/python3.10/dist-packages (from langchain-core<0.4.0,>=0.3.15->langchain-community) (1.33)\n",
      "Requirement already satisfied: packaging<25,>=23.2 in /usr/local/lib/python3.10/dist-packages (from langchain-core<0.4.0,>=0.3.15->langchain-community) (24.1)\n",
      "Requirement already satisfied: typing-extensions>=4.7 in /usr/local/lib/python3.10/dist-packages (from langchain-core<0.4.0,>=0.3.15->langchain-community) (4.12.2)\n",
      "Requirement already satisfied: httpx<1,>=0.23.0 in /usr/local/lib/python3.10/dist-packages (from langsmith<0.2.0,>=0.1.125->langchain-community) (0.27.2)\n",
      "Requirement already satisfied: orjson<4.0.0,>=3.9.14 in /usr/local/lib/python3.10/dist-packages (from langsmith<0.2.0,>=0.1.125->langchain-community) (3.10.10)\n",
      "Requirement already satisfied: requests-toolbelt<2.0.0,>=1.0.0 in /usr/local/lib/python3.10/dist-packages (from langsmith<0.2.0,>=0.1.125->langchain-community) (1.0.0)\n",
      "Requirement already satisfied: python-dotenv>=0.21.0 in /usr/local/lib/python3.10/dist-packages (from pydantic-settings<3.0.0,>=2.4.0->langchain-community) (1.0.1)\n",
      "Requirement already satisfied: charset-normalizer<4,>=2 in /usr/local/lib/python3.10/dist-packages (from requests<3,>=2->langchain-community) (3.4.0)\n",
      "Requirement already satisfied: idna<4,>=2.5 in /usr/local/lib/python3.10/dist-packages (from requests<3,>=2->langchain-community) (3.10)\n",
      "Requirement already satisfied: urllib3<3,>=1.21.1 in /usr/local/lib/python3.10/dist-packages (from requests<3,>=2->langchain-community) (2.2.3)\n",
      "Requirement already satisfied: certifi>=2017.4.17 in /usr/local/lib/python3.10/dist-packages (from requests<3,>=2->langchain-community) (2024.8.30)\n",
      "Requirement already satisfied: greenlet!=0.4.17 in /usr/local/lib/python3.10/dist-packages (from SQLAlchemy<2.0.36,>=1.4->langchain-community) (3.1.1)\n",
      "Requirement already satisfied: anyio in /usr/local/lib/python3.10/dist-packages (from httpx<1,>=0.23.0->langsmith<0.2.0,>=0.1.125->langchain-community) (3.7.1)\n",
      "Requirement already satisfied: httpcore==1.* in /usr/local/lib/python3.10/dist-packages (from httpx<1,>=0.23.0->langsmith<0.2.0,>=0.1.125->langchain-community) (1.0.6)\n",
      "Requirement already satisfied: sniffio in /usr/local/lib/python3.10/dist-packages (from httpx<1,>=0.23.0->langsmith<0.2.0,>=0.1.125->langchain-community) (1.3.1)\n",
      "Requirement already satisfied: h11<0.15,>=0.13 in /usr/local/lib/python3.10/dist-packages (from httpcore==1.*->httpx<1,>=0.23.0->langsmith<0.2.0,>=0.1.125->langchain-community) (0.14.0)\n",
      "Requirement already satisfied: jsonpointer>=1.9 in /usr/local/lib/python3.10/dist-packages (from jsonpatch<2.0,>=1.33->langchain-core<0.4.0,>=0.3.15->langchain-community) (3.0.0)\n",
      "Requirement already satisfied: annotated-types>=0.6.0 in /usr/local/lib/python3.10/dist-packages (from pydantic<3.0.0,>=2.7.4->langchain<0.4.0,>=0.3.6->langchain-community) (0.7.0)\n",
      "Requirement already satisfied: pydantic-core==2.23.4 in /usr/local/lib/python3.10/dist-packages (from pydantic<3.0.0,>=2.7.4->langchain<0.4.0,>=0.3.6->langchain-community) (2.23.4)\n",
      "Collecting mypy-extensions>=0.3.0 (from typing-inspect<1,>=0.4.0->dataclasses-json<0.7,>=0.5.7->langchain-community)\n",
      "  Downloading mypy_extensions-1.0.0-py3-none-any.whl.metadata (1.1 kB)\n",
      "Requirement already satisfied: propcache>=0.2.0 in /usr/local/lib/python3.10/dist-packages (from yarl<2.0,>=1.12.0->aiohttp<4.0.0,>=3.8.3->langchain-community) (0.2.0)\n",
      "Requirement already satisfied: exceptiongroup in /usr/local/lib/python3.10/dist-packages (from anyio->httpx<1,>=0.23.0->langsmith<0.2.0,>=0.1.125->langchain-community) (1.2.2)\n",
      "Downloading langchain_community-0.3.5-py3-none-any.whl (2.4 MB)\n",
      "\u001b[2K   \u001b[90m━━━━━━━━━━━━━━━━━━━━━━━━━━━━━━━━━━━━━━━━\u001b[0m \u001b[32m2.4/2.4 MB\u001b[0m \u001b[31m67.1 MB/s\u001b[0m eta \u001b[36m0:00:00\u001b[0m\n",
      "\u001b[?25hDownloading dataclasses_json-0.6.7-py3-none-any.whl (28 kB)\n",
      "Downloading httpx_sse-0.4.0-py3-none-any.whl (7.8 kB)\n",
      "Downloading langchain-0.3.7-py3-none-any.whl (1.0 MB)\n",
      "\u001b[2K   \u001b[90m━━━━━━━━━━━━━━━━━━━━━━━━━━━━━━━━━━━━━━━━\u001b[0m \u001b[32m1.0/1.0 MB\u001b[0m \u001b[31m49.6 MB/s\u001b[0m eta \u001b[36m0:00:00\u001b[0m\n",
      "\u001b[?25hDownloading pydantic_settings-2.6.1-py3-none-any.whl (28 kB)\n",
      "Downloading SQLAlchemy-2.0.35-cp310-cp310-manylinux_2_17_x86_64.manylinux2014_x86_64.whl (3.1 MB)\n",
      "\u001b[2K   \u001b[90m━━━━━━━━━━━━━━━━━━━━━━━━━━━━━━━━━━━━━━━━\u001b[0m \u001b[32m3.1/3.1 MB\u001b[0m \u001b[31m81.6 MB/s\u001b[0m eta \u001b[36m0:00:00\u001b[0m\n",
      "\u001b[?25hDownloading marshmallow-3.23.1-py3-none-any.whl (49 kB)\n",
      "\u001b[2K   \u001b[90m━━━━━━━━━━━━━━━━━━━━━━━━━━━━━━━━━━━━━━━━\u001b[0m \u001b[32m49.5/49.5 kB\u001b[0m \u001b[31m4.0 MB/s\u001b[0m eta \u001b[36m0:00:00\u001b[0m\n",
      "\u001b[?25hDownloading typing_inspect-0.9.0-py3-none-any.whl (8.8 kB)\n",
      "Downloading mypy_extensions-1.0.0-py3-none-any.whl (4.7 kB)\n",
      "Installing collected packages: SQLAlchemy, mypy-extensions, marshmallow, httpx-sse, typing-inspect, pydantic-settings, dataclasses-json, langchain, langchain-community\n",
      "  Attempting uninstall: SQLAlchemy\n",
      "    Found existing installation: SQLAlchemy 2.0.36\n",
      "    Uninstalling SQLAlchemy-2.0.36:\n",
      "      Successfully uninstalled SQLAlchemy-2.0.36\n",
      "  Attempting uninstall: langchain\n",
      "    Found existing installation: langchain 0.3.4\n",
      "    Uninstalling langchain-0.3.4:\n",
      "      Successfully uninstalled langchain-0.3.4\n",
      "Successfully installed SQLAlchemy-2.0.35 dataclasses-json-0.6.7 httpx-sse-0.4.0 langchain-0.3.7 langchain-community-0.3.5 marshmallow-3.23.1 mypy-extensions-1.0.0 pydantic-settings-2.6.1 typing-inspect-0.9.0\n"
     ]
    }
   ],
   "source": [
    "!pip install -U langchain-community"
   ]
  },
  {
   "cell_type": "markdown",
   "metadata": {
    "id": "Ba1VjUO3ZwfS"
   },
   "source": [
    "Install Chroma's Python client SDK, `chromadb`."
   ]
  },
  {
   "cell_type": "code",
   "execution_count": 3,
   "metadata": {
    "colab": {
     "base_uri": "https://localhost:8080/"
    },
    "id": "LGBoQhoz3kdy",
    "outputId": "0b331903-634b-4da5-a9a1-ed5c8758e6e8"
   },
   "outputs": [
    {
     "name": "stdout",
     "output_type": "stream",
     "text": [
      "\u001b[?25l     \u001b[90m━━━━━━━━━━━━━━━━━━━━━━━━━━━━━━━━━━━━━━━━\u001b[0m \u001b[32m0.0/67.3 kB\u001b[0m \u001b[31m?\u001b[0m eta \u001b[36m-:--:--\u001b[0m\r\u001b[2K     \u001b[90m━━━━━━━━━━━━━━━━━━━━━━━━━━━━━━━━━━━━━━━━\u001b[0m \u001b[32m67.3/67.3 kB\u001b[0m \u001b[31m3.8 MB/s\u001b[0m eta \u001b[36m0:00:00\u001b[0m\n",
      "\u001b[?25h  Installing build dependencies ... \u001b[?25l\u001b[?25hdone\n",
      "  Getting requirements to build wheel ... \u001b[?25l\u001b[?25hdone\n",
      "  Preparing metadata (pyproject.toml) ... \u001b[?25l\u001b[?25hdone\n",
      "\u001b[2K   \u001b[90m━━━━━━━━━━━━━━━━━━━━━━━━━━━━━━━━━━━━━━━━\u001b[0m \u001b[32m615.5/615.5 kB\u001b[0m \u001b[31m35.2 MB/s\u001b[0m eta \u001b[36m0:00:00\u001b[0m\n",
      "\u001b[2K   \u001b[90m━━━━━━━━━━━━━━━━━━━━━━━━━━━━━━━━━━━━━━━━\u001b[0m \u001b[32m2.4/2.4 MB\u001b[0m \u001b[31m66.5 MB/s\u001b[0m eta \u001b[36m0:00:00\u001b[0m\n",
      "\u001b[2K   \u001b[90m━━━━━━━━━━━━━━━━━━━━━━━━━━━━━━━━━━━━━━━━\u001b[0m \u001b[32m273.8/273.8 kB\u001b[0m \u001b[31m19.2 MB/s\u001b[0m eta \u001b[36m0:00:00\u001b[0m\n",
      "\u001b[2K   \u001b[90m━━━━━━━━━━━━━━━━━━━━━━━━━━━━━━━━━━━━━━━━\u001b[0m \u001b[32m94.7/94.7 kB\u001b[0m \u001b[31m6.5 MB/s\u001b[0m eta \u001b[36m0:00:00\u001b[0m\n",
      "\u001b[2K   \u001b[90m━━━━━━━━━━━━━━━━━━━━━━━━━━━━━━━━━━━━━━━━\u001b[0m \u001b[32m1.9/1.9 MB\u001b[0m \u001b[31m63.3 MB/s\u001b[0m eta \u001b[36m0:00:00\u001b[0m\n",
      "\u001b[2K   \u001b[90m━━━━━━━━━━━━━━━━━━━━━━━━━━━━━━━━━━━━━━━━\u001b[0m \u001b[32m93.2/93.2 kB\u001b[0m \u001b[31m7.4 MB/s\u001b[0m eta \u001b[36m0:00:00\u001b[0m\n",
      "\u001b[2K   \u001b[90m━━━━━━━━━━━━━━━━━━━━━━━━━━━━━━━━━━━━━━━━\u001b[0m \u001b[32m13.3/13.3 MB\u001b[0m \u001b[31m88.8 MB/s\u001b[0m eta \u001b[36m0:00:00\u001b[0m\n",
      "\u001b[2K   \u001b[90m━━━━━━━━━━━━━━━━━━━━━━━━━━━━━━━━━━━━━━━━\u001b[0m \u001b[32m55.8/55.8 kB\u001b[0m \u001b[31m4.6 MB/s\u001b[0m eta \u001b[36m0:00:00\u001b[0m\n",
      "\u001b[2K   \u001b[90m━━━━━━━━━━━━━━━━━━━━━━━━━━━━━━━━━━━━━━━━\u001b[0m \u001b[32m159.2/159.2 kB\u001b[0m \u001b[31m14.7 MB/s\u001b[0m eta \u001b[36m0:00:00\u001b[0m\n",
      "\u001b[2K   \u001b[90m━━━━━━━━━━━━━━━━━━━━━━━━━━━━━━━━━━━━━━━━\u001b[0m \u001b[32m64.3/64.3 kB\u001b[0m \u001b[31m5.4 MB/s\u001b[0m eta \u001b[36m0:00:00\u001b[0m\n",
      "\u001b[2K   \u001b[90m━━━━━━━━━━━━━━━━━━━━━━━━━━━━━━━━━━━━━━━━\u001b[0m \u001b[32m118.7/118.7 kB\u001b[0m \u001b[31m9.6 MB/s\u001b[0m eta \u001b[36m0:00:00\u001b[0m\n",
      "\u001b[2K   \u001b[90m━━━━━━━━━━━━━━━━━━━━━━━━━━━━━━━━━━━━━━━━\u001b[0m \u001b[32m54.4/54.4 kB\u001b[0m \u001b[31m4.4 MB/s\u001b[0m eta \u001b[36m0:00:00\u001b[0m\n",
      "\u001b[2K   \u001b[90m━━━━━━━━━━━━━━━━━━━━━━━━━━━━━━━━━━━━━━━━\u001b[0m \u001b[32m63.7/63.7 kB\u001b[0m \u001b[31m5.2 MB/s\u001b[0m eta \u001b[36m0:00:00\u001b[0m\n",
      "\u001b[2K   \u001b[90m━━━━━━━━━━━━━━━━━━━━━━━━━━━━━━━━━━━━━━━━\u001b[0m \u001b[32m442.1/442.1 kB\u001b[0m \u001b[31m31.2 MB/s\u001b[0m eta \u001b[36m0:00:00\u001b[0m\n",
      "\u001b[2K   \u001b[90m━━━━━━━━━━━━━━━━━━━━━━━━━━━━━━━━━━━━━━━━\u001b[0m \u001b[32m316.6/316.6 kB\u001b[0m \u001b[31m24.1 MB/s\u001b[0m eta \u001b[36m0:00:00\u001b[0m\n",
      "\u001b[2K   \u001b[90m━━━━━━━━━━━━━━━━━━━━━━━━━━━━━━━━━━━━━━━━\u001b[0m \u001b[32m73.3/73.3 kB\u001b[0m \u001b[31m6.1 MB/s\u001b[0m eta \u001b[36m0:00:00\u001b[0m\n",
      "\u001b[2K   \u001b[90m━━━━━━━━━━━━━━━━━━━━━━━━━━━━━━━━━━━━━━━━\u001b[0m \u001b[32m3.8/3.8 MB\u001b[0m \u001b[31m76.4 MB/s\u001b[0m eta \u001b[36m0:00:00\u001b[0m\n",
      "\u001b[2K   \u001b[90m━━━━━━━━━━━━━━━━━━━━━━━━━━━━━━━━━━━━━━━━\u001b[0m \u001b[32m425.7/425.7 kB\u001b[0m \u001b[31m25.9 MB/s\u001b[0m eta \u001b[36m0:00:00\u001b[0m\n",
      "\u001b[2K   \u001b[90m━━━━━━━━━━━━━━━━━━━━━━━━━━━━━━━━━━━━━━━━\u001b[0m \u001b[32m167.5/167.5 kB\u001b[0m \u001b[31m13.4 MB/s\u001b[0m eta \u001b[36m0:00:00\u001b[0m\n",
      "\u001b[2K   \u001b[90m━━━━━━━━━━━━━━━━━━━━━━━━━━━━━━━━━━━━━━━━\u001b[0m \u001b[32m46.0/46.0 kB\u001b[0m \u001b[31m3.5 MB/s\u001b[0m eta \u001b[36m0:00:00\u001b[0m\n",
      "\u001b[2K   \u001b[90m━━━━━━━━━━━━━━━━━━━━━━━━━━━━━━━━━━━━━━━━\u001b[0m \u001b[32m86.8/86.8 kB\u001b[0m \u001b[31m6.9 MB/s\u001b[0m eta \u001b[36m0:00:00\u001b[0m\n",
      "\u001b[?25h  Building wheel for pypika (pyproject.toml) ... \u001b[?25l\u001b[?25hdone\n",
      "\u001b[31mERROR: pip's dependency resolver does not currently take into account all the packages that are installed. This behaviour is the source of the following dependency conflicts.\n",
      "google-cloud-datastore 2.19.0 requires protobuf!=3.20.0,!=3.20.1,!=4.21.0,!=4.21.1,!=4.21.2,!=4.21.3,!=4.21.4,!=4.21.5,<5.0.0dev,>=3.19.5, but you have protobuf 5.28.3 which is incompatible.\n",
      "google-cloud-firestore 2.16.1 requires protobuf!=3.20.0,!=3.20.1,!=4.21.0,!=4.21.1,!=4.21.2,!=4.21.3,!=4.21.4,!=4.21.5,<5.0.0dev,>=3.19.5, but you have protobuf 5.28.3 which is incompatible.\n",
      "tensorboard 2.17.0 requires protobuf!=4.24.0,<5.0.0,>=3.19.6, but you have protobuf 5.28.3 which is incompatible.\n",
      "tensorflow 2.17.0 requires protobuf!=4.21.0,!=4.21.1,!=4.21.2,!=4.21.3,!=4.21.4,!=4.21.5,<5.0.0dev,>=3.20.3, but you have protobuf 5.28.3 which is incompatible.\n",
      "tensorflow-metadata 1.16.1 requires protobuf<4.21,>=3.20.3; python_version < \"3.11\", but you have protobuf 5.28.3 which is incompatible.\u001b[0m\u001b[31m\n",
      "\u001b[0m"
     ]
    }
   ],
   "source": [
    "!pip install --quiet chromadb"
   ]
  },
  {
   "cell_type": "markdown",
   "metadata": {
    "id": "wiGHSFmZaniK"
   },
   "source": [
    "### Grab an API Key\n",
    "\n",
    "To use Gemini you need an *API key*. You can create an API key with one click in [Google AI Studio](https://makersuite.google.com/).\n",
    "After creating the API key, you can either set an environment variable named `GOOGLE_API_KEY` to your API Key or pass the API key as an argument when using the `ChatGoogleGenerativeAI` class to access Google's `gemini` and `gemini-vision` models or the `GoogleGenerativeAIEmbeddings` class to access Google's Generative AI embedding model using `LangChain`.\n",
    "\n",
    "In this tutorial, you will set the environment variable `GOOGLE_API_KEY` to configure Gemini to use your API key."
   ]
  },
  {
   "cell_type": "code",
   "execution_count": 3,
   "metadata": {
    "colab": {
     "base_uri": "https://localhost:8080/"
    },
    "id": "xId4sR52utS0",
    "outputId": "80b0ccb2-cbea-42f9-a95f-d2f877610fb7"
   },
   "outputs": [],
   "source": [
    "# Run this cell and paste the API key in the prompt\n",
    "import os\n",
    "import getpass\n",
    "\n",
    "os.environ['GOOGLE_API_KEY'] = getpass.getpass('Gemini API Key:')"
   ]
  },
  {
   "cell_type": "markdown",
   "metadata": {
    "id": "aEKMUyVmckWI"
   },
   "source": [
    "## Basic steps\n",
    "LLMs are trained offline on a large corpus of public data. Hence they cannot answer questions based on custom or private data accurately without additional context.\n",
    "\n",
    "If you want to make use of LLMs to answer questions based on private data, you have to provide the relevant documents as context alongside your prompt. This approach is called Retrieval Augmented Generation (RAG).\n",
    "\n",
    "You will use this approach to create a question-answering assistant using the Gemini text model integrated through LangChain. The assistant is expected to answer questions about the Gemini model. To make this possible you will add more context to the assistant using data from a website.\n",
    "\n",
    "In this tutorial, you'll implement the two main components in an RAG-based architecture:\n",
    "\n",
    "1. Retriever\n",
    "\n",
    "    Based on the user's query, the retriever retrieves relevant snippets that add context from the document. In this tutorial, the document is the website data.\n",
    "    The relevant snippets are passed as context to the next stage - \"Generator\".\n",
    "\n",
    "2. Generator\n",
    "\n",
    "    The relevant snippets from the website data are passed to the LLM along with the user's query to generate accurate answers.\n",
    "\n",
    "You'll learn more about these stages in the upcoming sections while implementing the application."
   ]
  },
  {
   "cell_type": "markdown",
   "metadata": {
    "id": "kPhs4mDkjdgY"
   },
   "source": [
    "## Import the required libraries"
   ]
  },
  {
   "cell_type": "code",
   "execution_count": 4,
   "metadata": {
    "colab": {
     "base_uri": "https://localhost:8080/"
    },
    "id": "TcvGPVdXu05F",
    "outputId": "68cbc653-4315-4c2e-84d0-1272e71e159a"
   },
   "outputs": [
    {
     "name": "stderr",
     "output_type": "stream",
     "text": [
      "USER_AGENT environment variable not set, consider setting it to identify your requests.\n"
     ]
    }
   ],
   "source": [
    "from langchain import PromptTemplate\n",
    "from langchain import hub\n",
    "from langchain.docstore.document import Document\n",
    "from langchain.document_loaders import WebBaseLoader\n",
    "from langchain.schema import StrOutputParser\n",
    "from langchain.schema.prompt_template import format_document\n",
    "from langchain.schema.runnable import RunnablePassthrough\n",
    "from langchain.vectorstores import Chroma"
   ]
  },
  {
   "cell_type": "markdown",
   "metadata": {
    "id": "4461Jihk_rWq"
   },
   "source": [
    "## Retriever\n",
    "\n",
    "In this stage, you will perform the following steps:\n",
    "\n",
    "1. Read and parse the website data using LangChain.\n",
    "\n",
    "2. Create embeddings of the website data.\n",
    "\n",
    "    Embeddings are numerical representations (vectors) of text. Hence, text with similar meaning will have similar embedding vectors. You'll make use of Gemini's embedding model to create the embedding vectors of the website data.\n",
    "\n",
    "3. Store the embeddings in Chroma's vector store.\n",
    "    \n",
    "    Chroma is a vector database. The Chroma vector store helps in the efficient retrieval of similar vectors. Thus, for adding context to the prompt for the LLM, relevant embeddings of the text matching the user's question can be retrieved easily using Chroma.\n",
    "\n",
    "4. Create a Retriever from the Chroma vector store.\n",
    "\n",
    "    The retriever will be used to pass relevant website embeddings to the LLM along with user queries."
   ]
  },
  {
   "cell_type": "markdown",
   "metadata": {
    "id": "WomGvIAVjZeI"
   },
   "source": [
    "### Read and parse the website data\n",
    "\n",
    "LangChain provides a wide variety of document loaders. To read the website data as a document, you will use the `WebBaseLoader` from LangChain.\n",
    "\n",
    "To know more about how to read and parse input data from different sources using the document loaders of LangChain, read LangChain's [document loaders guide](https://python.langchain.com/docs/integrations/document_loaders)."
   ]
  },
  {
   "cell_type": "code",
   "execution_count": 6,
   "metadata": {
    "id": "DeNX9QFM0V-C"
   },
   "outputs": [],
   "source": [
    "loader = WebBaseLoader(\"https://blog.google/technology/ai/google-gemini-ai/\")\n",
    "docs = loader.load()"
   ]
  },
  {
   "cell_type": "code",
   "execution_count": 7,
   "metadata": {},
   "outputs": [
    {
     "name": "stdout",
     "output_type": "stream",
     "text": [
      "[Document(metadata={'source': 'https://blog.google/technology/ai/google-gemini-ai/', 'title': 'Introducing Gemini: Google’s most capable AI model yet', 'description': 'Gemini is our most capable and general model, built to be multimodal and optimized for three different sizes: Ultra, Pro and Nano.', 'language': 'en-us'}, page_content='\\n\\n\\n\\n\\n\\nIntroducing Gemini: Google’s most capable AI model yet\\n\\n\\n\\n\\n\\n\\n\\n\\n\\n\\n\\n\\n\\n\\n\\n\\n\\n\\n\\n\\n\\n\\n\\n\\n\\n\\n\\n\\n\\n\\n\\n\\n\\n\\n\\n\\n\\n\\n\\n\\n\\n\\n\\n\\n\\n\\n\\n\\n\\n      [{\"model\": \"blogsurvey.survey\", \"pk\": 5, \"fields\": {\"name\": \"Sentiment Change - All Articles - Nov 2024\", \"survey_id\": \"sentiment-change-all-articles-nov-2024_241031\", \"scroll_depth_trigger\": 75, \"previous_survey\": null, \"display_rate\": 50, \"thank_message\": \"Thank you!\", \"thank_emoji\": \"✅\", \"questions\": \"[{\\\\\"id\\\\\": \\\\\"c32a4772-5575-4985-814a-afd8d15d5d6d\\\\\", \\\\\"type\\\\\": \\\\\"simple_question\\\\\", \\\\\"value\\\\\": {\\\\\"question\\\\\": \\\\\"After reading this article, how has your perception of Google changed?\\\\\", \\\\\"responses\\\\\": [{\\\\\"id\\\\\": \\\\\"cb111cda-60ba-4ac5-8260-17c5326e485b\\\\\", \\\\\"type\\\\\": \\\\\"item\\\\\", \\\\\"value\\\\\": \\\\\"Gotten better\\\\\"}, {\\\\\"id\\\\\": \\\\\"d8864abb-689a-4b52-b021-449af0b0a7c6\\\\\", \\\\\"type\\\\\": \\\\\"item\\\\\", \\\\\"value\\\\\": \\\\\"Gotten worse\\\\\"}, {\\\\\"id\\\\\": \\\\\"f169d98d-1731-4efc-be90-3cd379a2a63e\\\\\", \\\\\"type\\\\\": \\\\\"item\\\\\", \\\\\"value\\\\\": \\\\\"Stayed the same\\\\\"}, {\\\\\"id\\\\\": \\\\\"701d8c63-affe-4f44-85f0-71538a310d65\\\\\", \\\\\"type\\\\\": \\\\\"item\\\\\", \\\\\"value\\\\\": \\\\\"Don\\'t know\\\\\"}]}}]\", \"target_article_pages\": true}}]\\n    \\n\\n\\n\\n\\n\\n\\n\\n\\n\\n\\n\\n\\n\\n\\n\\n\\n\\n\\nSkip to main content\\n\\n\\n\\n\\n\\n        The Keyword\\n      \\n\\n\\n\\n\\n    Introducing Gemini: our largest and most capable AI model\\n  \\n\\n\\n\\n\\n\\n\\nShare\\n\\n\\n\\n\\n\\n\\nTwitter\\n\\n\\n\\n\\n\\nFacebook\\n\\n\\n\\n\\n\\nLinkedIn\\n\\n\\n\\n\\n\\nMail\\n\\n\\n\\n\\n\\n\\nCopy link\\n\\n\\n\\n\\n\\n\\n\\n\\n\\n\\n\\n\\n\\n\\n\\n\\n               Latest stories\\n            \\n\\n\\n\\n              Product news\\n              \\n\\n\\n\\n\\n\\n\\n\\n\\n\\n\\n\\n\\n    Product news\\n  \\n\\n\\n\\n            Android, Chrome & Play\\n            \\n\\n\\n\\n\\n\\n\\n\\n\\n                  Android\\n                  \\n                \\n\\n\\n\\n                  Chrome\\n                  \\n                \\n\\n\\n\\n                  Chromebooks\\n                  \\n                \\n\\n\\n\\n                  Google Play\\n                  \\n                \\n\\n\\n\\n                  Wear OS\\n                  \\n                \\n\\n\\n\\n\\n\\n            Platforms & Devices\\n            \\n\\n\\n\\n\\n\\n\\n\\n\\n                  Fitbit\\n                  \\n                \\n\\n\\n\\n                  Google Nest\\n                  \\n                \\n\\n\\n\\n                  Pixel\\n                  \\n                \\n\\n\\n\\n\\n\\n            Explore & Get Answers\\n            \\n\\n\\n\\n\\n\\n\\n\\n\\n                  Gemini\\n                  \\n                \\n\\n\\n\\n                  Maps\\n                  \\n                \\n\\n\\n\\n                  News\\n                  \\n                \\n\\n\\n\\n                  Search\\n                  \\n                \\n\\n\\n\\n                  Shopping\\n                  \\n                \\n\\n\\n\\n\\n\\n            Connect & Communicate\\n            \\n\\n\\n\\n\\n\\n\\n\\n\\n                  Classroom\\n                  \\n                \\n\\n\\n\\n                  Photos\\n                  \\n                \\n\\n\\n\\n                  Registry\\n                  \\n                \\n\\n\\n\\n                  Translate\\n                  \\n                \\n\\n\\n\\n\\n\\n            In The Cloud\\n            \\n\\n\\n\\n\\n\\n\\n\\n\\n                  Google Workspace\\n                  \\n                \\n\\n\\n\\n                  More on the Cloud Blog\\n                  \\n                    \\n\\n\\n\\n\\n\\n\\n                  Google Cloud\\n                  \\n                \\n\\n\\n\\n\\n\\n      See all product updates\\n    \\n\\n\\n\\n\\n\\n            Android, Chrome & Play\\n          \\n\\n\\n\\n                    Android\\n\\n                    \\n                  \\n\\n\\n\\n                    Chrome\\n\\n                    \\n                  \\n\\n\\n\\n                    Chromebooks\\n\\n                    \\n                  \\n\\n\\n\\n                    Google Play\\n\\n                    \\n                  \\n\\n\\n\\n                    Wear OS\\n\\n                    \\n                  \\n\\n\\n\\n\\n\\n            Platforms & Devices\\n          \\n\\n\\n\\n                    Fitbit\\n\\n                    \\n                  \\n\\n\\n\\n                    Google Nest\\n\\n                    \\n                  \\n\\n\\n\\n                    Pixel\\n\\n                    \\n                  \\n\\n\\n\\n\\n\\n            Explore & Get Answers\\n          \\n\\n\\n\\n                    Gemini\\n\\n                    \\n                  \\n\\n\\n\\n                    Maps\\n\\n                    \\n                  \\n\\n\\n\\n                    News\\n\\n                    \\n                  \\n\\n\\n\\n                    Search\\n\\n                    \\n                  \\n\\n\\n\\n                    Shopping\\n\\n                    \\n                  \\n\\n\\n\\n\\n\\n            Connect & Communicate\\n          \\n\\n\\n\\n                    Classroom\\n\\n                    \\n                  \\n\\n\\n\\n                    Photos\\n\\n                    \\n                  \\n\\n\\n\\n                    Registry\\n\\n                    \\n                  \\n\\n\\n\\n                    Translate\\n\\n                    \\n                  \\n\\n\\n\\n\\n\\n            In The Cloud\\n          \\n\\n\\n\\n                    Google Workspace\\n\\n                    \\n                  \\n\\n\\n\\n                    More on the Cloud Blog\\n\\n                    \\n                      \\n\\n\\n\\n\\n\\n\\n                    Google Cloud\\n\\n                    \\n                  \\n\\n\\n\\n\\n\\n\\n        See all product updates\\n        \\n\\n\\n\\n\\n\\n\\n\\n\\n\\n\\n\\n\\n\\n              Company news\\n              \\n\\n\\n\\n\\n\\n\\n\\n\\n\\n\\n\\n\\n    Company news\\n  \\n\\n\\n\\n            Outreach & initiatives\\n            \\n\\n\\n\\n\\n\\n\\n\\n\\n                  Arts & Culture\\n                  \\n                \\n\\n\\n\\n                  Education\\n                  \\n                \\n\\n\\n\\n                  Entrepreneurs\\n                  \\n                \\n\\n\\n\\n                  Public Policy\\n                  \\n                \\n\\n\\n\\n                  Sustainability\\n                  \\n                \\n\\n\\n\\n                   See all\\n                \\n\\n\\n\\n\\n\\n            Technology\\n            \\n\\n\\n\\n\\n\\n\\n\\n\\n                  AI\\n                  \\n                \\n\\n\\n\\n                  Developers\\n                  \\n                \\n\\n\\n\\n                  Health\\n                  \\n                \\n\\n\\n\\n                  Google DeepMind\\n                  \\n                \\n\\n\\n\\n                  Safety and security\\n                  \\n                \\n\\n\\n\\n                   See all\\n                \\n\\n\\n\\n\\n\\n            Inside Google\\n            \\n\\n\\n\\n\\n\\n\\n\\n\\n                  Data centers and infrastructure\\n                  \\n                \\n\\n\\n\\n                  Doodles\\n                  \\n                \\n\\n\\n\\n                  Googlers\\n                  \\n                \\n\\n\\n\\n                  Life at Google\\n                  \\n                \\n\\n\\n\\n                   See all\\n                \\n\\n\\n\\n\\n\\n            Around the globe\\n            \\n\\n\\n\\n\\n\\n\\n\\n\\n                  Google in Asia\\n                  \\n                \\n\\n\\n\\n                  Google in Europe\\n                  \\n                \\n\\n\\n\\n                  Google in Latin America\\n                  \\n                \\n\\n\\n\\n                   See all\\n                \\n\\n\\n\\n\\n\\n            Authors\\n            \\n\\n\\n\\n\\n\\n\\n\\n\\n                  Sundar Pichai, CEO\\n                  \\n                \\n\\n\\n\\n                  Ruth Porat, President & Chief Investment Officer\\n                  \\n                \\n\\n\\n\\n                  Kent Walker, SVP\\n                  \\n                \\n\\n\\n\\n                  James Manyika, SVP\\n                  \\n                \\n\\n\\n\\n                   See all\\n                \\n\\n\\n\\n\\n\\n\\n\\n\\n\\n            Outreach & initiatives\\n          \\n\\n\\n\\n                    Arts & Culture\\n\\n                    \\n                  \\n\\n\\n\\n                    Education\\n\\n                    \\n                  \\n\\n\\n\\n                    Entrepreneurs\\n\\n                    \\n                  \\n\\n\\n\\n                    Public Policy\\n\\n                    \\n                  \\n\\n\\n\\n                    Sustainability\\n\\n                    \\n                  \\n\\n\\n\\n            See all\\n            \\n\\n\\n\\n\\n\\n\\n            Technology\\n          \\n\\n\\n\\n                    AI\\n\\n                    \\n                  \\n\\n\\n\\n                    Developers\\n\\n                    \\n                  \\n\\n\\n\\n                    Health\\n\\n                    \\n                  \\n\\n\\n\\n                    Google DeepMind\\n\\n                    \\n                  \\n\\n\\n\\n                    Safety and security\\n\\n                    \\n                  \\n\\n\\n\\n            See all\\n            \\n\\n\\n\\n\\n\\n\\n            Inside Google\\n          \\n\\n\\n\\n                    Data centers and infrastructure\\n\\n                    \\n                  \\n\\n\\n\\n                    Doodles\\n\\n                    \\n                  \\n\\n\\n\\n                    Googlers\\n\\n                    \\n                  \\n\\n\\n\\n                    Life at Google\\n\\n                    \\n                  \\n\\n\\n\\n            See all\\n            \\n\\n\\n\\n\\n\\n\\n            Around the globe\\n          \\n\\n\\n\\n                    Google in Asia\\n\\n                    \\n                  \\n\\n\\n\\n                    Google in Europe\\n\\n                    \\n                  \\n\\n\\n\\n                    Google in Latin America\\n\\n                    \\n                  \\n\\n\\n\\n            See all\\n            \\n\\n\\n\\n\\n\\n\\n            Authors\\n          \\n\\n\\n\\n                    Sundar Pichai, CEO\\n\\n                    \\n                  \\n\\n\\n\\n                    Ruth Porat, President & Chief Investment Officer\\n\\n                    \\n                  \\n\\n\\n\\n                    Kent Walker, SVP\\n\\n                    \\n                  \\n\\n\\n\\n                    James Manyika, SVP\\n\\n                    \\n                  \\n\\n\\n\\n            See all\\n            \\n\\n\\n\\n\\n\\n\\n\\n\\n\\n\\n\\n\\n\\n\\n\\n\\n    Subscribe\\n\\n\\n\\n\\n\\n\\n\\n    Subscribe\\n\\n\\n\\n\\n\\n\\n\\n\\n\\n\\n\\n\\n\\n\\n\\n\\n\\n            The Keyword\\n          \\n\\n\\n\\n\\n\\n\\n\\n               Latest stories\\n            \\n\\n\\n\\n              Product news\\n              \\n\\n\\n\\n\\n\\n\\n\\n\\n\\n\\n\\n\\n    Product news\\n  \\n\\n\\n\\n            Android, Chrome & Play\\n            \\n\\n\\n\\n\\n\\n\\n\\n\\n                  Android\\n                  \\n                \\n\\n\\n\\n                  Chrome\\n                  \\n                \\n\\n\\n\\n                  Chromebooks\\n                  \\n                \\n\\n\\n\\n                  Google Play\\n                  \\n                \\n\\n\\n\\n                  Wear OS\\n                  \\n                \\n\\n\\n\\n\\n\\n            Platforms & Devices\\n            \\n\\n\\n\\n\\n\\n\\n\\n\\n                  Fitbit\\n                  \\n                \\n\\n\\n\\n                  Google Nest\\n                  \\n                \\n\\n\\n\\n                  Pixel\\n                  \\n                \\n\\n\\n\\n\\n\\n            Explore & Get Answers\\n            \\n\\n\\n\\n\\n\\n\\n\\n\\n                  Gemini\\n                  \\n                \\n\\n\\n\\n                  Maps\\n                  \\n                \\n\\n\\n\\n                  News\\n                  \\n                \\n\\n\\n\\n                  Search\\n                  \\n                \\n\\n\\n\\n                  Shopping\\n                  \\n                \\n\\n\\n\\n\\n\\n            Connect & Communicate\\n            \\n\\n\\n\\n\\n\\n\\n\\n\\n                  Classroom\\n                  \\n                \\n\\n\\n\\n                  Photos\\n                  \\n                \\n\\n\\n\\n                  Registry\\n                  \\n                \\n\\n\\n\\n                  Translate\\n                  \\n                \\n\\n\\n\\n\\n\\n            In The Cloud\\n            \\n\\n\\n\\n\\n\\n\\n\\n\\n                  Google Workspace\\n                  \\n                \\n\\n\\n\\n                  More on the Cloud Blog\\n                  \\n                    \\n\\n\\n\\n\\n\\n\\n                  Google Cloud\\n                  \\n                \\n\\n\\n\\n\\n\\n      See all product updates\\n    \\n\\n\\n\\n\\n              Company news\\n              \\n\\n\\n\\n\\n\\n\\n\\n\\n\\n\\n\\n\\n    Company news\\n  \\n\\n\\n\\n            Outreach & initiatives\\n            \\n\\n\\n\\n\\n\\n\\n\\n\\n                  Arts & Culture\\n                  \\n                \\n\\n\\n\\n                  Education\\n                  \\n                \\n\\n\\n\\n                  Entrepreneurs\\n                  \\n                \\n\\n\\n\\n                  Public Policy\\n                  \\n                \\n\\n\\n\\n                  Sustainability\\n                  \\n                \\n\\n\\n\\n                   See all\\n                \\n\\n\\n\\n\\n\\n            Technology\\n            \\n\\n\\n\\n\\n\\n\\n\\n\\n                  AI\\n                  \\n                \\n\\n\\n\\n                  Developers\\n                  \\n                \\n\\n\\n\\n                  Health\\n                  \\n                \\n\\n\\n\\n                  Google DeepMind\\n                  \\n                \\n\\n\\n\\n                  Safety and security\\n                  \\n                \\n\\n\\n\\n                   See all\\n                \\n\\n\\n\\n\\n\\n            Inside Google\\n            \\n\\n\\n\\n\\n\\n\\n\\n\\n                  Data centers and infrastructure\\n                  \\n                \\n\\n\\n\\n                  Doodles\\n                  \\n                \\n\\n\\n\\n                  Googlers\\n                  \\n                \\n\\n\\n\\n                  Life at Google\\n                  \\n                \\n\\n\\n\\n                   See all\\n                \\n\\n\\n\\n\\n\\n            Around the globe\\n            \\n\\n\\n\\n\\n\\n\\n\\n\\n                  Google in Asia\\n                  \\n                \\n\\n\\n\\n                  Google in Europe\\n                  \\n                \\n\\n\\n\\n                  Google in Latin America\\n                  \\n                \\n\\n\\n\\n                   See all\\n                \\n\\n\\n\\n\\n\\n            Authors\\n            \\n\\n\\n\\n\\n\\n\\n\\n\\n                  Sundar Pichai, CEO\\n                  \\n                \\n\\n\\n\\n                  Ruth Porat, President & Chief Investment Officer\\n                  \\n                \\n\\n\\n\\n                  Kent Walker, SVP\\n                  \\n                \\n\\n\\n\\n                  James Manyika, SVP\\n                  \\n                \\n\\n\\n\\n                   See all\\n                \\n\\n\\n\\n\\n\\n\\n\\n\\n\\n\\nPress corner\\n\\n\\n\\n\\n            RSS feed\\n          \\n\\n\\n\\n\\n\\n    Subscribe\\n\\n\\n\\n\\n\\n\\n\\n\\n\\n\\n\\n\\n\\n\\n\\n\\n\\n\\n\\nBreadcrumb\\n\\n\\n\\n\\n\\n\\n\\n\\n\\n\\n\\n\\n\\n              Technology\\n          \\n\\n\\n\\n\\n\\n\\n              AI\\n          \\n\\n\\n\\n\\n\\n\\n\\n\\n\\n\\n\\nIntroducing Gemini: our largest and most capable AI model\\n\\n\\n\\n\\n\\n\\n\\nDec 06, 2023\\n·\\n[[read-time]] min read\\n\\n\\n\\n\\n\\n\\nShare\\n\\n\\n\\n\\n\\n\\nTwitter\\n\\n\\n\\n\\n\\nFacebook\\n\\n\\n\\n\\n\\nLinkedIn\\n\\n\\n\\n\\n\\nMail\\n\\n\\n\\n\\n\\n\\nCopy link\\n\\n\\n\\n\\n\\n\\n\\n\\n\\n\\n          Making AI more helpful for everyone\\n        \\n\\n\\n\\n\\n\\n\\n\\n\\n\\n\\n\\n\\n\\nSundar Pichai\\n\\n      CEO of Google and Alphabet\\n    \\n\\n\\n\\n\\n\\n\\n\\n\\n\\n\\n\\nDemis Hassabis\\n\\n      CEO and Co-Founder, Google DeepMind\\n    \\n\\n\\n\\n\\n\\n\\n\\n\\n\\nShare\\n\\n\\n\\n\\n\\n\\nTwitter\\n\\n\\n\\n\\n\\nFacebook\\n\\n\\n\\n\\n\\nLinkedIn\\n\\n\\n\\n\\n\\nMail\\n\\n\\n\\n\\n\\n\\nCopy link\\n\\n\\n\\n\\n\\n\\n\\n\\n\\n\\n\\n\\n\\n\\n\\n\\n\\n\\n\\n\\n\\n\\n\\n\\n\\n\\n\\n\\nIn this story\\n\\n\\nIn this story\\n\\n\\n\\n\\n\\n\\n\\n\\n\\n\\n\\n\\nNote from Sundar\\n\\n\\nIntroducing Gemini\\n\\n\\nState-of-the-art performance\\n\\n\\nNext-generation capabilities\\n\\n\\nScalable and efficient\\n\\n\\nResponsibility and safety\\n\\n\\nAvailability\\n\\n\\n\\n\\n\\n\\n\\n\\n\\n\\n\\n\\n\\n\\n\\nA note from Google and Alphabet CEO Sundar Pichai:Every technology shift is an opportunity to advance scientific discovery, accelerate human progress, and improve lives. I believe the transition we are seeing right now with AI will be the most profound in our lifetimes, far bigger than the shift to mobile or to the web before it. AI has the potential to create opportunities — from the everyday to the extraordinary — for people everywhere. It will bring new waves of innovation and economic progress and drive knowledge, learning, creativity and productivity on a scale we haven’t seen before.That’s what excites me: the chance to make AI helpful for everyone, everywhere in the world.Nearly eight years into our journey as an AI-first company, the pace of progress is only accelerating: Millions of people are now using generative AI across our products to do things they couldn’t even a year ago, from finding answers to more complex questions to using new tools to collaborate and create. At the same time, developers are using our models and infrastructure to build new generative AI applications, and startups and enterprises around the world are growing with our AI tools.This is incredible momentum, and yet, we’re only beginning to scratch the surface of what’s possible.We’re approaching this work boldly and responsibly. That means being ambitious in our research and pursuing the capabilities that will bring enormous benefits to people and society, while building in safeguards and working collaboratively with governments and experts to address risks as AI becomes more capable. And we continue to invest in the very best tools, foundation models and infrastructure and bring them to our products and to others, guided by our AI Principles.Now, we’re taking the next step on our journey with Gemini, our most capable and general model yet, with state-of-the-art performance across many leading benchmarks. Our first version, Gemini 1.0, is optimized for different sizes: Ultra, Pro and Nano. These are the first models of the Gemini era and the first realization of the vision we had when we formed Google DeepMind earlier this year. This new era of models represents one of the biggest science and engineering efforts we’ve undertaken as a company. I’m genuinely excited for what’s ahead, and for the opportunities Gemini will unlock for people everywhere.– Sundar\\n\\n\\n\\n\\n\\nIntroducing GeminiBy Demis Hassabis, CEO and Co-Founder of Google DeepMind, on behalf of the Gemini teamAI has been the focus of my life\\'s work, as for many of my research colleagues. Ever since programming AI for computer games as a teenager, and throughout my years as a neuroscience researcher trying to understand the workings of the brain, I’ve always believed that if we could build smarter machines, we could harness them to benefit humanity in incredible ways.This promise of a world responsibly empowered by AI continues to drive our work at Google DeepMind. For a long time, we’ve wanted to build a new generation of AI models, inspired by the way people understand and interact with the world. AI that feels less like a smart piece of software and more like something useful and intuitive — an expert helper or assistant.Today, we’re a step closer to this vision as we introduce Gemini, the most capable and general model we’ve ever built.Gemini is the result of large-scale collaborative efforts by teams across Google, including our colleagues at Google Research. It was built from the ground up to be multimodal, which means it can generalize and seamlessly understand, operate across and combine different types of information including text, code, audio, image and video.\\n\\n\\n\\n\\n\\n\\n\\n\\n\\n\\n\\n\\n\\n\\n\\n\\n\\n\\n\\n\\n\\n\\n\\n\\n\\n10:25\\n\\n\\n\\n\\nIntroducing Gemini: our largest and most capable AI model\\n\\n\\n\\n\\n\\n\\nGemini is also our most flexible model yet — able to efficiently run on everything from data centers to mobile devices. Its state-of-the-art capabilities will significantly enhance the way developers and enterprise customers build and scale with AI.We’ve optimized Gemini 1.0, our first version, for three different sizes:Gemini Ultra — our largest and most capable model for highly complex tasks.Gemini Pro — our best model for scaling across a wide range of tasks.Gemini Nano — our most efficient model for on-device tasks.\\n\\n\\n\\n\\n\\nState-of-the-art performanceWe\\'ve been rigorously testing our Gemini models and evaluating their performance on a wide variety of tasks. From natural image, audio and video understanding to mathematical reasoning, Gemini Ultra’s performance exceeds current state-of-the-art results on 30 of the 32 widely-used academic benchmarks used in large language model (LLM) research and development.With a score of 90.0%, Gemini Ultra is the first model to outperform human experts on MMLU (massive multitask language understanding), which uses a combination of 57 subjects such as math, physics, history, law, medicine and ethics for testing both world knowledge and problem-solving abilities.Our new benchmark approach to MMLU enables Gemini to use its reasoning capabilities to think more carefully before answering difficult questions, leading to significant improvements over just using its first impression.\\n\\n\\n\\n\\n\\n\\nGemini surpasses state-of-the-art performance on a range of benchmarks including text and coding.\\n\\n\\n\\nGemini Ultra also achieves a state-of-the-art score of 59.4% on the new MMMU benchmark, which consists of multimodal tasks spanning different domains requiring deliberate reasoning.With the image benchmarks we tested, Gemini Ultra outperformed previous state-of-the-art models, without assistance from optical character recognition (OCR) systems that extract text from images for further processing. These benchmarks highlight Gemini’s native multimodality and indicate early signs of Gemini\\'s more complex reasoning abilities.See more details in our Gemini technical report.\\n\\n\\n\\n\\n\\n\\nGemini surpasses state-of-the-art performance on a range of multimodal benchmarks.\\n\\n\\n\\n\\nNext-generation capabilitiesUntil now, the standard approach to creating multimodal models involved training separate components for different modalities and then stitching them together to roughly mimic some of this functionality. These models can sometimes be good at performing certain tasks, like describing images, but struggle with more conceptual and complex reasoning.We designed Gemini to be natively multimodal, pre-trained from the start on different modalities. Then we fine-tuned it with additional multimodal data to further refine its effectiveness. This helps Gemini seamlessly understand and reason about all kinds of inputs from the ground up, far better than existing multimodal models — and its capabilities are state of the art in nearly every domain.Learn more about Gemini’s capabilities and see how it works.Sophisticated reasoningGemini 1.0’s sophisticated multimodal reasoning capabilities can help make sense of complex written and visual information. This makes it uniquely skilled at uncovering knowledge that can be difficult to discern amid vast amounts of data.Its remarkable ability to extract insights from hundreds of thousands of documents through reading, filtering and understanding information will help deliver new breakthroughs at digital speeds in many fields from science to finance.\\n\\n\\n\\n\\n\\n\\n\\n\\n\\n\\n\\n\\n\\n\\n\\n\\n\\n\\n\\n\\n\\n\\n\\n\\n\\n10:25\\n\\n\\n\\n\\nGemini unlocks new scientific insights\\n\\n\\n\\n\\n\\n\\nUnderstanding text, images, audio and moreGemini 1.0 was trained to recognize and understand text, images, audio and more at the same time, so it better understands nuanced information and can answer questions relating to complicated topics. This makes it especially good at explaining reasoning in complex subjects like math and physics.\\n\\n\\n\\n\\n\\n\\n\\n\\n\\n\\n\\n\\n\\n\\n\\n\\n\\n\\n\\n\\n\\n\\n\\n\\n\\n10:25\\n\\n\\n\\n\\nGemini explains reasoning in math and physics\\n\\n\\n\\n\\n\\n\\nAdvanced codingOur first version of Gemini can understand, explain and generate high-quality code in the world’s most popular programming languages, like Python, Java, C++, and Go. Its ability to work across languages and reason about complex information makes it one of the leading foundation models for coding in the world.Gemini Ultra excels in several coding benchmarks, including HumanEval, an important industry-standard for evaluating performance on coding tasks, and Natural2Code, our internal held-out dataset, which uses author-generated sources instead of web-based information.Gemini can also be used as the engine for more advanced coding systems. Two years ago we presented AlphaCode, the first AI code generation system to reach a competitive level of performance in programming competitions.Using a specialized version of Gemini, we created a more advanced code generation system, AlphaCode 2, which excels at solving competitive programming problems that go beyond coding to involve complex math and theoretical computer science.\\n\\n\\n\\n\\n\\n\\n\\n\\n\\n\\n\\n\\n\\n\\n\\n\\n\\n\\n\\n\\n\\n\\n\\n\\n\\n10:25\\n\\n\\n\\n\\nGemini excels at coding and competitive programming\\n\\n\\n\\n\\n\\n\\nWhen evaluated on the same platform as the original AlphaCode, AlphaCode 2 shows massive improvements, solving nearly twice as many problems, and we estimate that it performs better than 85% of competition participants — up from nearly 50% for AlphaCode. When programmers collaborate with AlphaCode 2 by defining certain properties for the code samples to follow, it performs even better.We’re excited for programmers to increasingly use highly capable AI models as collaborative tools that can help them reason about the problems, propose code designs and assist with implementation — so they can release apps and design better services, faster.See more details in our AlphaCode 2 technical report.\\n\\n\\n\\n\\n\\nMore reliable, scalable and efficientWe trained Gemini 1.0 at scale on our AI-optimized infrastructure using Google’s in-house designed Tensor Processing Units (TPUs) v4 and v5e. And we designed it to be our most reliable and scalable model to train, and our most efficient to serve.On TPUs, Gemini runs significantly faster than earlier, smaller and less-capable models. These custom-designed AI accelerators have been at the heart of Google\\'s AI-powered products that serve billions of users like Search, YouTube, Gmail, Google Maps, Google Play and Android. They’ve also enabled companies around the world to train large-scale AI models cost-efficiently.Today, we’re announcing the most powerful, efficient and scalable TPU system to date, Cloud TPU v5p, designed for training cutting-edge AI models. This next generation TPU will accelerate Gemini’s development and help developers and enterprise customers train large-scale generative AI models faster, allowing new products and capabilities to reach customers sooner.\\n\\n\\n\\n\\n\\n\\nA row of Cloud TPU v5p AI accelerator supercomputers in a Google data center.\\n\\n\\n\\n\\nBuilt with responsibility and safety at the coreAt Google, we’re committed to advancing bold and responsible AI in everything we do. Building upon Google’s AI Principles and the robust safety policies across our products, we’re adding new protections to account for Gemini’s multimodal capabilities. At each stage of development, we’re considering potential risks and working to test and mitigate them.Gemini has the most comprehensive safety evaluations of any Google AI model to date, including for bias and toxicity. We’ve conducted novel research into potential risk areas like cyber-offense, persuasion and autonomy, and have applied Google Research’s best-in-class adversarial testing techniques to help identify critical safety issues in advance of Gemini’s deployment.To identify blindspots in our internal evaluation approach, we’re working with a diverse group of external experts and partners to stress-test our models across a range of issues.To diagnose content safety issues during Gemini’s training phases and ensure its output follows our policies, we’re using benchmarks such as Real Toxicity Prompts, a set of 100,000 prompts with varying degrees of toxicity pulled from the web, developed by experts at the Allen Institute for AI. Further details on this work are coming soon.To limit harm, we built dedicated safety classifiers to identify, label and sort out content involving violence or negative stereotypes, for example. Combined with robust filters, this layered approach is designed to make Gemini safer and more inclusive for everyone. Additionally, we’re continuing to address known challenges for models such as factuality, grounding, attribution and corroboration.Responsibility and safety will always be central to the development and deployment of our models. This is a long-term commitment that requires building collaboratively, so we’re partnering with the industry and broader ecosystem on defining best practices and setting safety and security benchmarks through organizations like MLCommons, the Frontier Model Forum and its AI Safety Fund, and our Secure AI Framework (SAIF), which was designed to help mitigate security risks specific to AI systems across the public and private sectors. We’ll continue partnering with researchers, governments and civil society groups around the world as we develop Gemini.\\n\\n\\n\\n\\n\\nMaking Gemini available to the worldGemini 1.0 is now rolling out across a range of products and platforms:Gemini Pro in Google productsWe’re bringing Gemini to billions of people through Google products.Starting today, Bard will use a fine-tuned version of Gemini Pro for more advanced reasoning, planning, understanding and more. This is the biggest upgrade to Bard since it launched. It will be available in English in more than 170 countries and territories, and we plan to expand to different modalities and support new languages and locations in the near future.We’re also bringing Gemini to Pixel. Pixel 8 Pro is the first smartphone engineered to run Gemini Nano, which is powering new features like Summarize in the Recorder app and rolling out in Smart Reply in Gboard, starting with WhatsApp, Line and KakaoTalk1 — with more messaging apps coming next year.In the coming months, Gemini will be available in more of our products and services like Search, Ads, Chrome and Duet AI.We’re already starting to experiment with Gemini in Search, where it\\'s making our Search Generative Experience (SGE) faster for users, with a 40% reduction in latency in English in the U.S., alongside improvements in quality.Building with GeminiStarting on December 13, developers and enterprise customers can access Gemini Pro via the Gemini API in Google AI Studio or Google Cloud Vertex AI.Google AI Studio is a free, web-based developer tool to prototype and launch apps quickly with an API key. When it\\'s time for a fully-managed AI platform, Vertex AI allows customization of Gemini with full data control and benefits from additional Google Cloud features for enterprise security, safety, privacy and data governance and compliance.Android developers will also be able to build with Gemini Nano, our most efficient model for on-device tasks, via AICore, a new system capability available in Android 14, starting on Pixel 8 Pro devices. Sign up for an early preview of AICore.Gemini Ultra coming soonFor Gemini Ultra, we’re currently completing extensive trust and safety checks, including red-teaming by trusted external parties, and further refining the model using fine-tuning and reinforcement learning from human feedback (RLHF) before making it broadly available.As part of this process, we’ll make Gemini Ultra available to select customers, developers, partners and safety and responsibility experts for early experimentation and feedback before rolling it out to developers and enterprise customers early next year.Early next year, we’ll also launch Bard Advanced, a new, cutting-edge AI experience that gives you access to our best models and capabilities, starting with Gemini Ultra.\\n\\n\\n\\n\\nThe Gemini era: enabling a future of innovationThis is a significant milestone in the development of AI, and the start of a new era for us at Google as we continue to rapidly innovate and responsibly advance the capabilities of our models.We’ve made great progress on Gemini so far and we’re working hard to further extend its capabilities for future versions, including advances in planning and memory, and increasing the context window for processing even more information to give better responses.We’re excited by the amazing possibilities of a world responsibly empowered by AI — a future of innovation that will enhance creativity, extend knowledge, advance science and transform the way billions of people live and work around the world.\\n\\n\\n\\n\\n\\n\\n\\n\\nCollection\\n\\n\\n\\n\\n\\n\\n\\n\\n\\n\\n\\n\\n\\n\\nCollection\\n\\nMore about Gemini\\nExplore our collection to find out more about Gemini, the most capable and general model we’ve ever built.\\n\\nSee more\\n\\n\\n\\n\\n\\n\\n\\n\\n\\n\\n\\n\\n\\n\\n\\n\\n\\n\\n\\n\\n\\n\\n\\n\\n\\n\\n\\n\\n          Get more stories from Google in your inbox.\\n        \\n\\n\\n\\n\\n\\n    Email address\\n  \\n\\n\\n\\n\\n\\n              Your information will be used in accordance with\\n            \\nGoogle\\'s privacy policy.\\n\\n\\n            Subscribe\\n          \\n\\n\\n\\n\\n\\n\\n\\n\\n\\n\\n\\n\\n\\nDone. Just one step more.\\n\\nCheck your inbox to confirm your subscription.\\n\\nYou are already subscribed to our newsletter.\\n\\n\\n\\n          You can also subscribe with a\\n        \\ndifferent email address\\n\\n        .\\n        \\n\\n\\n\\n\\n\\n\\nPOSTED IN:\\n\\n\\n\\n\\n\\n\\n\\nGemini Models\\n\\n\\n  \\n\\n\\n\\n\\n\\nDevelopers\\n\\n\\n  \\n\\n\\n\\n\\n\\nGoogle Cloud\\n\\n\\n  \\n\\n\\n\\n\\n\\nResearch\\n\\n\\n  \\n\\n\\n\\n\\n\\nGoogle DeepMind\\n\\n\\n  \\n\\n\\n\\n\\n\\nPixel\\n\\n\\n  \\n\\n\\n\\n\\n\\n\\n\\n\\n\\n\\n\\n\\n\\n\\n\\nRead Article\\n\\n\\n\\n\\n\\n\\n\\nMore Information\\n\\n\\n\\n\\n\\n\\n\\n\\n\\n\\n\\n1\\n\\nUpdated on Dec 13 to include additional messaging apps\\n\\n\\n\\nCollapse\\n\\n\\n\\n\\n\\n\\n\\n\\n\\n\\n\\n\\n\\n\\n\\n\\n\\n            Related stories\\n          \\n\\n\\n\\n\\n\\n\\n\\n\\n\\n\\n\\n\\n\\n\\n\\n\\n\\nAI\\n7 pieces of AI news we announced in October\\n\\n\\n\\n                  By\\n                  \\n                    \\n                    \\n                    Keyword Team\\n                    \\n\\n Nov 01, 2024\\n\\n\\n\\n\\n\\n\\n\\n\\n\\n\\n\\n\\n\\n\\n\\n\\n\\n\\nGoogle Earth\\nGenerative AI updates for Google Maps Platform and Google Earth\\n\\n\\n\\n                  By\\n                  \\n                    \\n                    \\n                    Yael Maguire\\n                    \\n\\n Oct 31, 2024\\n\\n\\n\\n\\n\\n\\n\\n\\n\\n\\n\\n\\n\\n\\n\\n\\n\\n\\nAI\\nAsk a Techspert: What\\'s the difference between a CPU, GPU and TPU?\\n\\n\\n\\n                  By\\n                  \\n                    \\n                    \\n                    Molly McHugh-Johnson\\n                    \\n\\n Oct 30, 2024\\n\\n\\n\\n\\n\\n\\n\\n\\n\\n\\n\\n\\n\\n\\n\\n\\n\\n\\nPixel\\nBuy a refurbished Pixel phone for a fraction of the price\\n\\n\\n\\n                  By\\n                  \\n                    \\n                    \\n                    Prem Pandian\\n                    \\n\\n Oct 28, 2024\\n\\n\\n\\n\\n\\n\\n\\n\\n\\n\\n\\n\\n\\n\\n\\n\\n\\n\\nAI\\nHow Jacob Collier helped shape the new MusicFX DJ\\n\\n\\n\\n                  By\\n                  \\n                    \\n                    \\n                    Jamie Barrar\\n                    \\n\\n Oct 23, 2024\\n\\n\\n\\n\\n\\n\\n\\n\\n\\n\\n\\n\\n\\n\\n\\n\\n\\n\\nGoogle Cloud\\nGOV.UK transforms its search function with help from Google Cloud\\n\\n\\n\\n                  By\\n                  \\n                    \\n                    \\n                    Iain Burgess\\n                    \\n\\n Oct 23, 2024\\n\\n\\n\\n\\n\\n\\n.\\n\\n\\n\\n\\n\\n\\n\\n\\n\\n\\n\\n\\n\\n\\n\\n\\n\\n\\n\\n\\n\\n\\n\\n\\n\\n\\n\\n\\n\\n\\n\\n\\n\\n\\n\\n\\n\\nLet’s stay in touch. Get the latest news from Google in your inbox.\\n\\n\\nSubscribe\\nNo thanks\\n\\n\\n\\n\\n\\n\\n\\n\\n\\n              Follow Us\\n            \\n\\n\\n\\n\\n\\n\\n\\n\\n\\n\\n\\n\\n\\n\\n\\n\\n\\n\\n\\n\\n\\n\\n\\n\\n\\n\\n\\n\\n\\n\\n\\n\\n\\n\\n\\n\\n\\n\\n\\n\\n\\n\\n\\n\\n\\n\\n\\n\\n\\n\\nPrivacy\\n            \\n\\n\\nTerms\\n            \\n\\n\\nAbout Google\\n            \\n\\n\\nGoogle Products\\n            \\n\\n\\nAbout the Keyword\\n              \\n\\n\\n\\n\\n\\n\\n\\n\\n\\n              Help\\n            \\n\\n\\n\\n\\n\\n        Bahasa Indonesia (Indonesia)\\n      \\n\\n        Deutsch\\n      \\n\\n        English\\n      \\n\\n        English (Africa)\\n      \\n\\n        English (Australia)\\n      \\n\\n        English (Canada)\\n      \\n\\n        English (India)\\n      \\n\\n        English (MENA)\\n      \\n\\n        Español (España)\\n      \\n\\n        Español (Latinoamérica)\\n      \\n\\n        Français (Canada)\\n      \\n\\n        Français (France)\\n      \\n\\n        Italiano\\n      \\n\\n        Nederlands (Nederland)\\n      \\n\\n        Polski\\n      \\n\\n        Português (Brasil)\\n      \\n\\n        Česko (Čeština)\\n      \\n\\n        اللغة العربية (MENA)\\n      \\n\\n        日本語 (日本)\\n      \\n\\n        한국어\\n      \\n\\n\\n\\n\\n\\n\\n\\n\\n\\n\\n\\n\\n\\n')]\n"
     ]
    }
   ],
   "source": [
    "print(docs)"
   ]
  },
  {
   "cell_type": "markdown",
   "metadata": {
    "id": "olIlIOYrJTlF"
   },
   "source": [
    "If you only want to select a specific portion of the website data to add context to the prompt, you can use regex, text slicing, or text splitting.\n",
    "\n",
    "In this example, you'll use Python's `split()` function to extract the required portion of the text. The extracted text should be converted back to LangChain's `Document` format."
   ]
  },
  {
   "cell_type": "code",
   "execution_count": 8,
   "metadata": {
    "id": "EDL9YLRb9Bw2"
   },
   "outputs": [],
   "source": [
    "# Extract the text from the website data document\n",
    "text_content = docs[0].page_content\n",
    "\n",
    "# The text content between the substrings \"code, audio, image and video.\" to\n",
    "# \"Cloud TPU v5p\" is relevant for this tutorial. You can use Python's `split()`\n",
    "# to select the required content.\n",
    "text_content_1 = text_content.split(\"code, audio, image and video.\",1)[1]\n",
    "final_text = text_content_1.split(\"Cloud TPU v5p\",1)[0]\n",
    "\n",
    "# Convert the text to LangChain's `Document` format\n",
    "docs =  [Document(page_content=final_text, metadata={\"source\": \"local\"})]"
   ]
  },
  {
   "cell_type": "markdown",
   "metadata": {
    "id": "yDsdAg4Fjo5o"
   },
   "source": [
    "### Initialize Gemini's embedding model\n",
    "\n",
    "To create the embeddings from the website data, you'll use Gemini's embedding model, **embedding-001** which supports creating text embeddings.\n",
    "\n",
    "To use this embedding model, you have to import `GoogleGenerativeAIEmbeddings` from LangChain. To know more about the embedding model, read Google AI's [language documentation](https://ai.google.dev/models/gemini)."
   ]
  },
  {
   "cell_type": "code",
   "execution_count": 9,
   "metadata": {
    "id": "8NXNTrjp0jdh"
   },
   "outputs": [
    {
     "name": "stderr",
     "output_type": "stream",
     "text": [
      "/home/pradanaend/Documents/Project/cv-perfector/.venv/lib/python3.12/site-packages/tqdm/auto.py:21: TqdmWarning: IProgress not found. Please update jupyter and ipywidgets. See https://ipywidgets.readthedocs.io/en/stable/user_install.html\n",
      "  from .autonotebook import tqdm as notebook_tqdm\n"
     ]
    }
   ],
   "source": [
    "from langchain_google_genai import GoogleGenerativeAIEmbeddings\n",
    "\n",
    "# If there is no environment variable set for the API key, you can pass the API\n",
    "# key to the parameter `google_api_key` of the `GoogleGenerativeAIEmbeddings`\n",
    "# function: `google_api_key = \"key\"`.\n",
    "\n",
    "gemini_embeddings = GoogleGenerativeAIEmbeddings(model=\"models/embedding-001\")"
   ]
  },
  {
   "cell_type": "markdown",
   "metadata": {
    "id": "m9Vzw30wpebs"
   },
   "source": [
    "### Store the data using Chroma\n",
    "\n",
    "To create a Chroma vector database from the website data, you will use the `from_documents` function of `Chroma`. Under the hood, this function creates embeddings from the documents created by the document loader of LangChain using any specified embedding model and stores them in a Chroma vector database.  \n",
    "\n",
    "You have to specify the `docs` you created from the website data using LangChain's `WebBasedLoader` and the `gemini_embeddings` as the embedding model when invoking the `from_documents` function to create the vector database from the website data. You can also specify a directory in the `persist_directory` argument to store the vector store on the disk. If you don't specify a directory, the data will be ephemeral in-memory.\n"
   ]
  },
  {
   "cell_type": "code",
   "execution_count": 12,
   "metadata": {
    "id": "n1VwhUQMvpcN"
   },
   "outputs": [],
   "source": [
    "# Save to disk\n",
    "vectorstore = Chroma.from_documents(\n",
    "                     documents=docs,                 # Data\n",
    "                     embedding=gemini_embeddings,    # Embedding model\n",
    "                     persist_directory=\"./chroma_db\" # Directory to save data\n",
    "                     )"
   ]
  },
  {
   "cell_type": "markdown",
   "metadata": {
    "id": "WFKyb3JXOeaQ"
   },
   "source": [
    "### Create a retriever using Chroma\n",
    "\n",
    "You'll now create a retriever that can retrieve website data embeddings from the newly created Chroma vector store. This retriever can be later used to pass embeddings that provide more context to the LLM for answering user's queries.\n",
    "\n",
    "\n",
    "To load the vector store that you previously stored in the disk, you can specify the name of the directory that contains the vector store in `persist_directory` and the embedding model in the `embedding_function` arguments of Chroma's initializer.\n",
    "\n",
    "You can then invoke the `as_retriever` function of `Chroma` on the vector store to create a retriever."
   ]
  },
  {
   "cell_type": "code",
   "execution_count": 13,
   "metadata": {
    "colab": {
     "base_uri": "https://localhost:8080/"
    },
    "id": "s3t4kmzIOZQq",
    "outputId": "4e705862-0a84-44be-b680-8f89ab85a448"
   },
   "outputs": [
    {
     "name": "stderr",
     "output_type": "stream",
     "text": [
      "/tmp/ipykernel_32878/793325790.py:2: LangChainDeprecationWarning: The class `Chroma` was deprecated in LangChain 0.2.9 and will be removed in 1.0. An updated version of the class exists in the :class:`~langchain-chroma package and should be used instead. To use it run `pip install -U :class:`~langchain-chroma` and import as `from :class:`~langchain_chroma import Chroma``.\n",
      "  vectorstore_disk = Chroma(\n",
      "/tmp/ipykernel_32878/793325790.py:19: LangChainDeprecationWarning: The method `BaseRetriever.get_relevant_documents` was deprecated in langchain-core 0.1.46 and will be removed in 1.0. Use :meth:`~invoke` instead.\n",
      "  print(len(retriever.get_relevant_documents(\"MMLU\")))\n"
     ]
    },
    {
     "name": "stdout",
     "output_type": "stream",
     "text": [
      "1\n"
     ]
    }
   ],
   "source": [
    "# Load from disk\n",
    "vectorstore_disk = Chroma(\n",
    "                        persist_directory=\"./chroma_db\",       # Directory of db\n",
    "                        embedding_function=gemini_embeddings   # Embedding model\n",
    "                   )\n",
    "# Get the Retriever interface for the store to use later.\n",
    "# When an unstructured query is given to a retriever it will return documents.\n",
    "# Read more about retrievers in the following link.\n",
    "# https://python.langchain.com/docs/modules/data_connection/retrievers/\n",
    "#\n",
    "# Since only 1 document is stored in the Chroma vector store, search_kwargs `k`\n",
    "# is set to 1 to decrease the `k` value of chroma's similarity search from 4 to\n",
    "# 1. If you don't pass this value, you will get a warning.\n",
    "retriever = vectorstore_disk.as_retriever(search_kwargs={\"k\": 1})\n",
    "\n",
    "# Check if the retriever is working by trying to fetch the relevant docs related\n",
    "# to the word 'MMLU' (Massive Multitask Language Understanding). If the length is greater than zero, it means that\n",
    "# the retriever is functioning well.\n",
    "print(len(retriever.get_relevant_documents(\"MMLU\")))"
   ]
  },
  {
   "cell_type": "markdown",
   "metadata": {
    "id": "LZwcZyRxSO0q"
   },
   "source": [
    "## Generator\n",
    "\n",
    "The Generator prompts the LLM for an answer when the user asks a question. The retriever you created in the previous stage from the Chroma vector store will be used to pass relevant embeddings from the website data to the LLM to provide more context to the user's query.\n",
    "\n",
    "You'll perform the following steps in this stage:\n",
    "\n",
    "1. Chain together the following:\n",
    "    * A prompt for extracting the relevant embeddings using the retriever.\n",
    "    * A prompt for answering any question using LangChain.\n",
    "    * An LLM model from Gemini for prompting.\n",
    "    \n",
    "2. Run the created chain with a question as input to prompt the model for an answer.\n"
   ]
  },
  {
   "cell_type": "markdown",
   "metadata": {
    "id": "FtUi5FBIJMDy"
   },
   "source": [
    "### Initialize Gemini\n",
    "\n",
    "You must import `ChatGoogleGenerativeAI` from LangChain to initialize your model.\n",
    " In this example, you will use **gemini-pro**, as it supports text summarization. To know more about the text model, read Google AI's [language documentation](https://ai.google.dev/models/gemini).\n",
    "\n",
    "You can configure the model parameters such as ***temperature*** or ***top_p***,  by passing the appropriate values when initializing the `ChatGoogleGenerativeAI` LLM.  To learn more about the parameters and their uses, read Google AI's [concepts guide](https://ai.google.dev/docs/concepts#model_parameters)."
   ]
  },
  {
   "cell_type": "code",
   "execution_count": 14,
   "metadata": {
    "id": "CaA1vRCh7s36"
   },
   "outputs": [],
   "source": [
    "from langchain_google_genai import ChatGoogleGenerativeAI\n",
    "\n",
    "# If there is no environment variable set for the API key, you can pass the API\n",
    "# key to the parameter `google_api_key` of the `ChatGoogleGenerativeAI` function:\n",
    "# `google_api_key=\"key\"`.\n",
    "llm = ChatGoogleGenerativeAI(model=\"gemini-pro\",\n",
    "                 temperature=0.7, top_p=0.85)"
   ]
  },
  {
   "cell_type": "markdown",
   "metadata": {
    "id": "jC4QDhiPpDJa"
   },
   "source": [
    "### Create prompt templates\n",
    "\n",
    "You'll use LangChain's [PromptTemplate](https://python.langchain.com/docs/modules/model_io/prompts/prompt_templates/) to generate prompts to the LLM for answering questions.\n",
    "\n",
    "In the `llm_prompt`, the variable `question` will be replaced later by the input question, and the variable `context` will be replaced by the relevant text from the website retrieved from the Chroma vector store."
   ]
  },
  {
   "cell_type": "code",
   "execution_count": 15,
   "metadata": {
    "colab": {
     "base_uri": "https://localhost:8080/"
    },
    "id": "90Czqh074dEC",
    "outputId": "3220304e-38b3-42d5-d958-c09ca0e805bd"
   },
   "outputs": [
    {
     "name": "stdout",
     "output_type": "stream",
     "text": [
      "input_variables=['context', 'question'] input_types={} partial_variables={} template=\"You are an assistant for question-answering tasks.\\nUse the following context to answer the question.\\nIf you don't know the answer, just say that you don't know.\\nUse five sentences maximum and keep the answer concise.\\n\\nQuestion: {question} \\nContext: {context} \\nAnswer:\"\n"
     ]
    }
   ],
   "source": [
    "# Prompt template to query Gemini\n",
    "llm_prompt_template = \"\"\"You are an assistant for question-answering tasks.\n",
    "Use the following context to answer the question.\n",
    "If you don't know the answer, just say that you don't know.\n",
    "Use five sentences maximum and keep the answer concise.\\n\n",
    "Question: {question} \\nContext: {context} \\nAnswer:\"\"\"\n",
    "\n",
    "llm_prompt = PromptTemplate.from_template(llm_prompt_template)\n",
    "\n",
    "print(llm_prompt)"
   ]
  },
  {
   "cell_type": "markdown",
   "metadata": {
    "id": "KXDh2jsdp4sr"
   },
   "source": [
    "### Create a stuff documents chain\n",
    "\n",
    "LangChain provides [Chains](https://python.langchain.com/docs/modules/chains/) for chaining together LLMs with each other or other components for complex applications. You will create a **stuff documents chain** for this application. A stuff documents chain lets you combine all the relevant documents, insert them into the prompt, and pass that prompt to the LLM.\n",
    "\n",
    "You can create a stuff documents chain using the [LangChain Expression Language (LCEL)](https://python.langchain.com/docs/expression_language).\n",
    "\n",
    "To learn more about different types of document chains, read LangChain's [chains guide](https://python.langchain.com/docs/modules/chains/document/).\n",
    "\n",
    "The stuff documents chain for this application retrieves the relevant website data and passes it as the context to an LLM prompt along with the input question."
   ]
  },
  {
   "cell_type": "code",
   "execution_count": 16,
   "metadata": {
    "id": "gj5sWzpwp7vc"
   },
   "outputs": [],
   "source": [
    "# Combine data from documents to readable string format.\n",
    "def format_docs(docs):\n",
    "    return \"\\n\\n\".join(doc.page_content for doc in docs)\n",
    "\n",
    "# Create stuff documents chain using LCEL.\n",
    "#\n",
    "# This is called a chain because you are chaining together different elements\n",
    "# with the LLM. In the following example, to create the stuff chain, you will\n",
    "# combine the relevant context from the website data matching the question, the\n",
    "# LLM model, and the output parser together like a chain using LCEL.\n",
    "#\n",
    "# The chain implements the following pipeline:\n",
    "# 1. Extract the website data relevant to the question from the Chroma\n",
    "#    vector store and save it to the variable `context`.\n",
    "# 2. `RunnablePassthrough` option to provide `question` when invoking\n",
    "#    the chain.\n",
    "# 3. The `context` and `question` are then passed to the prompt where they\n",
    "#    are populated in the respective variables.\n",
    "# 4. This prompt is then passed to the LLM (`gemini-pro`).\n",
    "# 5. Output from the LLM is passed through an output parser\n",
    "#    to structure the model's response.\n",
    "rag_chain = (\n",
    "    {\"context\": retriever | format_docs, \"question\": RunnablePassthrough()}\n",
    "    | llm_prompt\n",
    "    | llm\n",
    "    | StrOutputParser()\n",
    ")"
   ]
  },
  {
   "cell_type": "markdown",
   "metadata": {
    "id": "cPPqsGCLIrs1"
   },
   "source": [
    "### Prompt the model\n",
    "\n",
    "You can now query the LLM by passing any question to the `invoke()` function of the stuff documents chain you created previously."
   ]
  },
  {
   "cell_type": "code",
   "execution_count": 17,
   "metadata": {
    "colab": {
     "base_uri": "https://localhost:8080/",
     "height": 90
    },
    "id": "4vIaopCsIq0B",
    "outputId": "9fe70664-f681-4817-d658-e3e05c1eddb3"
   },
   "outputs": [
    {
     "data": {
      "text/plain": [
       "\"Gemini is Google's largest and most capable AI model. It is designed to be natively multimodal, pre-trained from the start on different modalities. Gemini is able to efficiently run on everything from data centers to mobile devices. It has state-of-the-art capabilities that will significantly enhance the way developers and enterprise customers build and scale with AI.\""
      ]
     },
     "execution_count": 17,
     "metadata": {},
     "output_type": "execute_result"
    }
   ],
   "source": [
    "rag_chain.invoke(\"What is Gemini?\")"
   ]
  },
  {
   "cell_type": "markdown",
   "metadata": {
    "id": "lV7T9rqDdjZK"
   },
   "source": [
    "# Conclusion\n",
    "\n",
    "That's it. You have successfully created an LLM application that answers questions using data from a website with the help of Gemini, LangChain, and Chroma."
   ]
  }
 ],
 "metadata": {
  "colab": {
   "name": "Gemini_LangChain_QA_Chroma_WebLoad.ipynb",
   "provenance": []
  },
  "kernelspec": {
   "display_name": ".venv",
   "language": "python",
   "name": "python3"
  },
  "language_info": {
   "codemirror_mode": {
    "name": "ipython",
    "version": 3
   },
   "file_extension": ".py",
   "mimetype": "text/x-python",
   "name": "python",
   "nbconvert_exporter": "python",
   "pygments_lexer": "ipython3",
   "version": "3.12.6"
  }
 },
 "nbformat": 4,
 "nbformat_minor": 0
}
